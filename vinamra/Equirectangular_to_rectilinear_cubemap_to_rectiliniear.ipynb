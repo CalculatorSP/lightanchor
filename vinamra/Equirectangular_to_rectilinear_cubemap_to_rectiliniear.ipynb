{
 "cells": [
  {
   "cell_type": "code",
   "execution_count": 6,
   "metadata": {},
   "outputs": [
    {
     "name": "stdout",
     "output_type": "stream",
     "text": [
      "Using matplotlib backend: MacOSX\n"
     ]
    }
   ],
   "source": [
    "%matplotlib\n",
    "import numpy as np\n",
    "import imageio as im\n",
    "import matplotlib.pyplot as plt"
   ]
  },
  {
   "cell_type": "code",
   "execution_count": 7,
   "metadata": {},
   "outputs": [],
   "source": [
    "def rotation_matrix(axis, theta):\n",
    "    \"\"\"\n",
    "    Return the rotation matrix associated with counterclockwise rotation about\n",
    "    the given axis by theta radians.\n",
    "    \"\"\"\n",
    "    axis = np.asarray(axis)\n",
    "    axis = axis / np.sqrt(np.dot(axis, axis))\n",
    "    a = np.cos(theta / 2.0)\n",
    "    b, c, d = -axis * np.sin(theta / 2.0)\n",
    "    aa, bb, cc, dd = a * a, b * b, c * c, d * d\n",
    "    bc, ad, ac, ab, bd, cd = b * c, a * d, a * c, a * b, b * d, c * d\n",
    "    return np.array([[aa + bb - cc - dd, 2 * (bc + ad), 2 * (bd - ac)],\n",
    "                     [2 * (bc - ad), aa + cc - bb - dd, 2 * (cd + ab)],\n",
    "                     [2 * (bd + ac), 2 * (cd - ab), aa + dd - bb - cc]])"
   ]
  },
  {
   "cell_type": "code",
   "execution_count": 8,
   "metadata": {},
   "outputs": [],
   "source": [
    "###### Parameters ######\n",
    "width = 640\n",
    "height = 480\n",
    "FOV = 90 * np.pi / 180\n",
    "#########################\n",
    "\n",
    "img = im.imread('./cube2.jpg')\n",
    "frame = img\n",
    "frame_height = frame.shape[0]\n",
    "frame_width = frame.shape[1]\n",
    "frame_channel = frame.shape[2]\n",
    "cubeFaceHeight = frame_height/3\n",
    "cubeFaceWidth = frame_width/4"
   ]
  },
  {
   "cell_type": "code",
   "execution_count": 9,
   "metadata": {},
   "outputs": [],
   "source": [
    "xx, yy = np.meshgrid(np.linspace(-1, 1, width), np.linspace(height / float(width), -height / float(width), height))\n",
    "zz = -1 / np.tan(FOV / 2) * np.ones(xx.shape)\n",
    "screen_points = np.array([xx.ravel(), yy.ravel(), zz.ravel()]).T"
   ]
  },
  {
   "cell_type": "code",
   "execution_count": 10,
   "metadata": {},
   "outputs": [],
   "source": [
    "axis = np.random.random_sample(3) * 2 - 1\n",
    "fig = plt.figure()\n",
    "ax = fig.add_subplot(111)\n",
    "plt.ion()\n",
    "plt.show()\n",
    "for theta in np.linspace(0, 2*np.pi, 24):\n",
    "    rotm = rotation_matrix(axis, theta)\n",
    "    \n",
    "    # Apply rotation\n",
    "    rot_cc = np.dot(screen_points, rotm.T)\n",
    "    \n",
    "    # Compute axis along which each pixel primarily lies and normalize\n",
    "    face_idx = np.argmax(np.abs(rot_cc), axis=1)\n",
    "    a = np.abs(rot_cc[range(len(face_idx)), face_idx])\n",
    "    rot_cc[:, 0] /= a\n",
    "    rot_cc[:, 1] /= a\n",
    "    rot_cc[:, 2] /= a\n",
    "    \n",
    "    xPixel = np.zeros((rot_cc.shape[0]))\n",
    "    yPixel = np.zeros((rot_cc.shape[0]))\n",
    "    for ii in range(rot_cc.shape[0]):\n",
    "        if face_idx[ii] == 0:\n",
    "            if rot_cc[ii, 0] > 0:\n",
    "                # Right\n",
    "                xPixel[ii] = (2 + (rot_cc[ii, 2] + 1) / 2) * cubeFaceWidth\n",
    "                yPixel[ii] = (1 + (-rot_cc[ii, 1] + 1) / 2) * cubeFaceHeight\n",
    "            else:\n",
    "                # Left\n",
    "                xPixel[ii] = (0 + (-rot_cc[ii, 2] + 1) / 2) * cubeFaceWidth\n",
    "                yPixel[ii] = (1 + (-rot_cc[ii, 1] + 1) / 2) * cubeFaceHeight\n",
    "        elif face_idx[ii] == 1:\n",
    "            if rot_cc[ii, 1] > 0:\n",
    "                # Top\n",
    "                xPixel[ii] = (1 + (rot_cc[ii, 0] + 1) / 2) * cubeFaceWidth\n",
    "                yPixel[ii] = (0 + (-rot_cc[ii, 2] + 1) / 2) * cubeFaceHeight\n",
    "            else:\n",
    "                # Bottom\n",
    "                xPixel[ii] = (1 + (rot_cc[ii, 0] + 1) / 2) * cubeFaceWidth\n",
    "                yPixel[ii] = (2 + (rot_cc[ii, 2] + 1) / 2) * cubeFaceHeight\n",
    "        else:\n",
    "            if rot_cc[ii, 2] > 0:\n",
    "                # Back\n",
    "                xPixel[ii] = (3 + (-rot_cc[ii, 0] + 1) / 2) * cubeFaceWidth\n",
    "                yPixel[ii] = (1 + (-rot_cc[ii, 1] + 1) / 2) * cubeFaceHeight\n",
    "            else:\n",
    "                # Front\n",
    "                xPixel[ii] = (1 + (rot_cc[ii, 0] + 1) / 2) * cubeFaceWidth\n",
    "                yPixel[ii] = (1 + (-rot_cc[ii, 1] + 1) / 2) * cubeFaceHeight\n",
    "    \n",
    "    xPixel = xPixel.astype(int)\n",
    "    yPixel = yPixel.astype(int)\n",
    "    \n",
    "    pix_cor = yPixel * frame_width + xPixel\n",
    "    flat_img = np.reshape(frame, [-1, frame_channel])\n",
    "    A = np.take(flat_img, pix_cor, axis=0)\n",
    "\n",
    "    nfov = np.reshape(np.round(A).astype(np.uint8), [height, width, 3])\n",
    "    img = ax.imshow(nfov)\n",
    "    plt.draw()\n",
    "    plt.pause(0.001)"
   ]
  },
  {
   "cell_type": "code",
   "execution_count": null,
   "metadata": {},
   "outputs": [],
   "source": []
  }
 ],
 "metadata": {
  "kernelspec": {
   "display_name": "Python 3",
   "language": "python",
   "name": "python3"
  },
  "language_info": {
   "codemirror_mode": {
    "name": "ipython",
    "version": 3
   },
   "file_extension": ".py",
   "mimetype": "text/x-python",
   "name": "python",
   "nbconvert_exporter": "python",
   "pygments_lexer": "ipython3",
   "version": "3.6.4"
  }
 },
 "nbformat": 4,
 "nbformat_minor": 2
}
